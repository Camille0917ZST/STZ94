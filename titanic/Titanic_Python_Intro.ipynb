{
 "cells": [
  {
   "cell_type": "code",
   "execution_count": 1,
   "metadata": {},
   "outputs": [],
   "source": [
    "import pandas as pd\n"
   ]
  },
  {
   "cell_type": "code",
   "execution_count": 2,
   "metadata": {},
   "outputs": [],
   "source": [
    "path = \"/Users/saaryalov/Downloads/\"\n",
    "train = pd.read_csv(path+\"train.csv\")\n",
    "test = pd.read_csv(path+\"test.csv\")\n",
    "\n",
    "full = pd.concat([train,test],axis=0,ignore_index=True)\n",
    "sub_example = full[[\"PassengerId\",\"Survived\"]]"
   ]
  },
  {
   "cell_type": "markdown",
   "metadata": {},
   "source": [
    "# Imputing Missing Values"
   ]
  },
  {
   "cell_type": "code",
   "execution_count": 3,
   "metadata": {},
   "outputs": [
    {
     "name": "stderr",
     "output_type": "stream",
     "text": [
      "/Library/Frameworks/Python.framework/Versions/3.6/lib/python3.6/site-packages/pandas/core/indexing.py:194: SettingWithCopyWarning: \n",
      "A value is trying to be set on a copy of a slice from a DataFrame\n",
      "\n",
      "See the caveats in the documentation: http://pandas.pydata.org/pandas-docs/stable/indexing.html#indexing-view-versus-copy\n",
      "  self._setitem_with_indexer(indexer, value)\n"
     ]
    }
   ],
   "source": [
    "for col in full.select_dtypes(\"float64\").columns:\n",
    "    if col != \"Survived\":\n",
    "        full[col].loc[full[col].isna()] = train[col].mean()\n",
    "        \n",
    "for col in full.select_dtypes(\"O\").columns:     \n",
    "    full[col].loc[full[col].isna()] = \"Missing\""
   ]
  },
  {
   "cell_type": "markdown",
   "metadata": {},
   "source": [
    "# Feature Engineering\n"
   ]
  },
  {
   "cell_type": "code",
   "execution_count": 4,
   "metadata": {},
   "outputs": [],
   "source": [
    "full.head(10)\n",
    "\n",
    "# Manual Features\n",
    "full[\"IsLoner\"] = ((full[\"Age\"] >= 18) & (full[\"SibSp\"] == 0) & (full[\"Parch\"]==0))*1\n",
    "full[\"IsChild\"] = (full[\"Age\"] <= 18)*1\n",
    "full[\"IsMarriedMan\"] = ((full[\"Sex\"] == \"male\")&(full[\"SibSp\"]>0))*1\n",
    "full[\"IsFamilyGuy\"] = ((full[\"Sex\"] == \"male\")&(full[\"SibSp\"]>0)&(full[\"Parch\"]>0))*1\n",
    "\n"
   ]
  },
  {
   "cell_type": "code",
   "execution_count": 5,
   "metadata": {},
   "outputs": [
    {
     "name": "stderr",
     "output_type": "stream",
     "text": [
      "/Library/Frameworks/Python.framework/Versions/3.6/lib/python3.6/site-packages/pandas/core/indexing.py:194: SettingWithCopyWarning: \n",
      "A value is trying to be set on a copy of a slice from a DataFrame\n",
      "\n",
      "See the caveats in the documentation: http://pandas.pydata.org/pandas-docs/stable/indexing.html#indexing-view-versus-copy\n",
      "  self._setitem_with_indexer(indexer, value)\n"
     ]
    }
   ],
   "source": [
    "import re\n",
    "\n",
    "full[\"Title\"] = full[\"Name\"]\n",
    "\n",
    "for row in range(0,full.shape[0]):\n",
    "    full[\"Title\"].loc[row] = re.sub('(.*, )|(\\\\..*)',\"\",full[\"Name\"].loc[row])\n",
    "    \n",
    "\n"
   ]
  },
  {
   "cell_type": "code",
   "execution_count": 6,
   "metadata": {},
   "outputs": [],
   "source": [
    "dist = pd.Series(index=full[\"Title\"].unique())\n",
    "for each in dist.index:\n",
    "    dist.loc[each] = sum(full[\"Title\"]==each)"
   ]
  },
  {
   "cell_type": "code",
   "execution_count": 7,
   "metadata": {},
   "outputs": [
    {
     "data": {
      "text/plain": [
       "Mr              757.0\n",
       "Mrs             197.0\n",
       "Miss            260.0\n",
       "Master           61.0\n",
       "Don               1.0\n",
       "Rev               8.0\n",
       "Dr                8.0\n",
       "Mme               1.0\n",
       "Ms                2.0\n",
       "Major             2.0\n",
       "Lady              1.0\n",
       "Sir               1.0\n",
       "Mlle              2.0\n",
       "Col               4.0\n",
       "Capt              1.0\n",
       "the Countess      1.0\n",
       "Jonkheer          1.0\n",
       "Dona              1.0\n",
       "dtype: float64"
      ]
     },
     "execution_count": 7,
     "metadata": {},
     "output_type": "execute_result"
    }
   ],
   "source": [
    "dist"
   ]
  },
  {
   "cell_type": "code",
   "execution_count": 8,
   "metadata": {},
   "outputs": [
    {
     "name": "stderr",
     "output_type": "stream",
     "text": [
      "/Library/Frameworks/Python.framework/Versions/3.6/lib/python3.6/site-packages/ipykernel_launcher.py:1: SettingWithCopyWarning: \n",
      "A value is trying to be set on a copy of a slice from a DataFrame\n",
      "\n",
      "See the caveats in the documentation: http://pandas.pydata.org/pandas-docs/stable/indexing.html#indexing-view-versus-copy\n",
      "  \"\"\"Entry point for launching an IPython kernel.\n",
      "/Library/Frameworks/Python.framework/Versions/3.6/lib/python3.6/site-packages/ipykernel_launcher.py:2: SettingWithCopyWarning: \n",
      "A value is trying to be set on a copy of a slice from a DataFrame\n",
      "\n",
      "See the caveats in the documentation: http://pandas.pydata.org/pandas-docs/stable/indexing.html#indexing-view-versus-copy\n",
      "  \n",
      "/Library/Frameworks/Python.framework/Versions/3.6/lib/python3.6/site-packages/ipykernel_launcher.py:3: SettingWithCopyWarning: \n",
      "A value is trying to be set on a copy of a slice from a DataFrame\n",
      "\n",
      "See the caveats in the documentation: http://pandas.pydata.org/pandas-docs/stable/indexing.html#indexing-view-versus-copy\n",
      "  This is separate from the ipykernel package so we can avoid doing imports until\n",
      "/Library/Frameworks/Python.framework/Versions/3.6/lib/python3.6/site-packages/ipykernel_launcher.py:4: SettingWithCopyWarning: \n",
      "A value is trying to be set on a copy of a slice from a DataFrame\n",
      "\n",
      "See the caveats in the documentation: http://pandas.pydata.org/pandas-docs/stable/indexing.html#indexing-view-versus-copy\n",
      "  after removing the cwd from sys.path.\n"
     ]
    }
   ],
   "source": [
    "full.Title[(full.Title==\"Don\") | (full.Title==\"Capt\") | (full.Title==\"Major\") | (full.Title==\"Col\") | (full.Title==\"Jonkheer\")] = \"Mr\"\n",
    "full.Title[(full.Title==\"Ms\") | (full.Title==\"the Countess\") | (full.Title==\"Lady\")] = \"Miss\"\n",
    "full.Title[(full.Title==\"Mme\") | (full.Title==\"Mlle\") | (full.Title==\"Dona\")] = \"Mrs\"\n",
    "full.Title[(full.Title==\"Sir\")] = \"Mr\""
   ]
  },
  {
   "cell_type": "code",
   "execution_count": 9,
   "metadata": {},
   "outputs": [
    {
     "data": {
      "text/plain": [
       "Series([], Name: Title, dtype: object)"
      ]
     },
     "execution_count": 9,
     "metadata": {},
     "output_type": "execute_result"
    }
   ],
   "source": [
    "full.Title.loc[(full.Title==\"Don\") ]"
   ]
  },
  {
   "cell_type": "code",
   "execution_count": 10,
   "metadata": {},
   "outputs": [
    {
     "data": {
      "text/plain": [
       "0"
      ]
     },
     "execution_count": 10,
     "metadata": {},
     "output_type": "execute_result"
    }
   ],
   "source": [
    "sum(full[\"Title\"]==\"Don\")"
   ]
  },
  {
   "cell_type": "code",
   "execution_count": 11,
   "metadata": {},
   "outputs": [
    {
     "data": {
      "text/plain": [
       "Mr        767.0\n",
       "Mrs       201.0\n",
       "Miss      264.0\n",
       "Master     61.0\n",
       "Rev         8.0\n",
       "Dr          8.0\n",
       "dtype: float64"
      ]
     },
     "execution_count": 11,
     "metadata": {},
     "output_type": "execute_result"
    }
   ],
   "source": [
    "dist_2 = pd.Series(index=full[\"Title\"].unique())\n",
    "for each in dist_2.index:\n",
    "    dist_2.loc[each] = sum(full[\"Title\"]==each)\n",
    "dist_2"
   ]
  },
  {
   "cell_type": "code",
   "execution_count": 12,
   "metadata": {},
   "outputs": [],
   "source": [
    "# Drop some features\n",
    "full.drop([\"Name\",\"Ticket\",\"Cabin\",'PassengerId'],axis=1,inplace=True)\n"
   ]
  },
  {
   "cell_type": "code",
   "execution_count": 13,
   "metadata": {},
   "outputs": [],
   "source": [
    "full = pd.get_dummies(full)"
   ]
  },
  {
   "cell_type": "code",
   "execution_count": 14,
   "metadata": {},
   "outputs": [],
   "source": [
    "train_fe = full[~full.Survived.isna()].loc[0:599]\n",
    "valid_fe = full[~full.Survived.isna()].loc[600:891]\n",
    "test_fe = full[full.Survived.isna()]"
   ]
  },
  {
   "cell_type": "code",
   "execution_count": 15,
   "metadata": {},
   "outputs": [],
   "source": [
    "from sklearn.ensemble import RandomForestClassifier \n",
    "from sklearn.metrics import accuracy_score\n",
    "# Create RF Object\n",
    "clf = RandomForestClassifier()\n",
    "# Fit model\n",
    "fitted = clf.fit(train_fe.drop(\"Survived\",axis=1),train_fe[\"Survived\"])\n",
    "# Predict\n",
    "pred = fitted.predict(valid_fe.drop(\"Survived\",axis=1))\n"
   ]
  },
  {
   "cell_type": "code",
   "execution_count": 16,
   "metadata": {},
   "outputs": [
    {
     "data": {
      "text/plain": [
       "0.7972508591065293"
      ]
     },
     "execution_count": 16,
     "metadata": {},
     "output_type": "execute_result"
    }
   ],
   "source": [
    "accuracy_score(valid_fe[\"Survived\"],pred)"
   ]
  },
  {
   "cell_type": "code",
   "execution_count": 17,
   "metadata": {},
   "outputs": [
    {
     "data": {
      "text/plain": [
       "Age                 float64\n",
       "Fare                float64\n",
       "Parch                 int64\n",
       "Pclass                int64\n",
       "SibSp                 int64\n",
       "IsLoner               int64\n",
       "IsChild               int64\n",
       "IsMarriedMan          int64\n",
       "IsFamilyGuy           int64\n",
       "Embarked_C            uint8\n",
       "Embarked_Missing      uint8\n",
       "Embarked_Q            uint8\n",
       "Embarked_S            uint8\n",
       "Sex_female            uint8\n",
       "Sex_male              uint8\n",
       "Title_Dr              uint8\n",
       "Title_Master          uint8\n",
       "Title_Miss            uint8\n",
       "Title_Mr              uint8\n",
       "Title_Mrs             uint8\n",
       "Title_Rev             uint8\n",
       "dtype: object"
      ]
     },
     "execution_count": 17,
     "metadata": {},
     "output_type": "execute_result"
    }
   ],
   "source": [
    "train_fe.drop(\"Survived\",axis=1).dtypes"
   ]
  },
  {
   "cell_type": "code",
   "execution_count": 18,
   "metadata": {},
   "outputs": [
    {
     "name": "stdout",
     "output_type": "stream",
     "text": [
      "lightgbm is installed...but failed to load!\n"
     ]
    }
   ],
   "source": [
    "import shap\n",
    "shap_values = shap.TreeExplainer(clf).shap_values(train_fe.drop(\"Survived\",axis=1))\n",
    "\n"
   ]
  },
  {
   "cell_type": "code",
   "execution_count": 19,
   "metadata": {},
   "outputs": [
    {
     "data": {
      "text/plain": [
       "array([[5.04247258e-02, 7.72649404e-02, 9.27580272e-03, 6.39667515e-02,\n",
       "        2.25658227e-02, 1.17459064e-02, 9.30312691e-03, 5.69775272e-03,\n",
       "        5.19329730e-03, 1.80262845e-02, 0.00000000e+00, 1.35377863e-02,\n",
       "        1.31422475e-02, 7.91166606e-02, 5.98134081e-02, 3.12661811e-04,\n",
       "        9.67521454e-03, 1.34953558e-02, 8.38163550e-02, 1.07085042e-02,\n",
       "        1.01823921e-03, 6.01666667e-01],\n",
       "       [5.04247258e-02, 7.72649404e-02, 9.27580272e-03, 6.39667515e-02,\n",
       "        2.25658227e-02, 1.17459064e-02, 9.30312691e-03, 5.69775272e-03,\n",
       "        5.19329730e-03, 1.80262845e-02, 0.00000000e+00, 1.35377863e-02,\n",
       "        1.31422475e-02, 7.91166606e-02, 5.98134081e-02, 3.12661811e-04,\n",
       "        9.67521454e-03, 1.34953558e-02, 8.38163550e-02, 1.07085042e-02,\n",
       "        1.01823921e-03, 3.98333333e-01]])"
      ]
     },
     "execution_count": 19,
     "metadata": {},
     "output_type": "execute_result"
    }
   ],
   "source": [
    "import numpy as np\n",
    "np.mean(np.abs(shap_values),axis=1)"
   ]
  },
  {
   "cell_type": "code",
   "execution_count": 20,
   "metadata": {},
   "outputs": [
    {
     "data": {
      "text/plain": [
       "<matplotlib.axes._subplots.AxesSubplot at 0x10dae3550>"
      ]
     },
     "execution_count": 20,
     "metadata": {},
     "output_type": "execute_result"
    },
    {
     "data": {
      "image/png": "[encoded data removed]",
      "text/plain": [
       "<Figure size 432x288 with 1 Axes>"
      ]
     },
     "metadata": {},
     "output_type": "display_data"
    }
   ],
   "source": [
    "pd.Series(np.mean(np.abs(shap_values),axis=1)[0,:],index=train_fe.columns).sort_values(ascending=False).plot(kind=\"bar\")"
   ]
  },
  {
   "cell_type": "code",
   "execution_count": 21,
   "metadata": {},
   "outputs": [],
   "source": [
    "# It seems like Title Rev is overfitting\n",
    "full.columns\n",
    "full['Title_Mr'] +=  full['Title_Rev']\n",
    "del full['Title_Rev']"
   ]
  },
  {
   "cell_type": "code",
   "execution_count": 22,
   "metadata": {},
   "outputs": [
    {
     "data": {
      "text/plain": [
       "0.8075601374570447"
      ]
     },
     "execution_count": 22,
     "metadata": {},
     "output_type": "execute_result"
    }
   ],
   "source": [
    "train_fe = full[~full.Survived.isna()].loc[0:599]\n",
    "valid_fe = full[~full.Survived.isna()].loc[600:891]\n",
    "test_fe = full[full.Survived.isna()]\n",
    "from sklearn.ensemble import RandomForestClassifier \n",
    "from sklearn.metrics import accuracy_score\n",
    "# Create RF Object\n",
    "clf = RandomForestClassifier()\n",
    "# Fit model\n",
    "fitted = clf.fit(train_fe.drop(\"Survived\",axis=1),train_fe[\"Survived\"])\n",
    "# Predict\n",
    "pred = fitted.predict(valid_fe.drop(\"Survived\",axis=1))\n",
    "accuracy_score(valid_fe[\"Survived\"],pred)"
   ]
  },
  {
   "cell_type": "code",
   "execution_count": 23,
   "metadata": {},
   "outputs": [
    {
     "data": {
      "text/plain": [
       "<matplotlib.axes._subplots.AxesSubplot at 0x10d9e46d8>"
      ]
     },
     "execution_count": 23,
     "metadata": {},
     "output_type": "execute_result"
    },
    {
     "data": {
      "image/png": "[encoded data removed]",
      "text/plain": [
       "<Figure size 432x288 with 1 Axes>"
      ]
     },
     "metadata": {},
     "output_type": "display_data"
    }
   ],
   "source": [
    "import shap\n",
    "shap_values = shap.TreeExplainer(clf).shap_values(train_fe.drop(\"Survived\",axis=1))\n",
    "pd.Series(np.mean(np.abs(shap_values),axis=1)[0,:],index=train_fe.columns).sort_values(ascending=False).plot(kind=\"bar\")"
   ]
  },
  {
   "cell_type": "code",
   "execution_count": 24,
   "metadata": {},
   "outputs": [],
   "source": [
    "pred = fitted.predict(test_fe.drop(\"Survived\",axis=1))"
   ]
  },
  {
   "cell_type": "code",
   "execution_count": 31,
   "metadata": {},
   "outputs": [
    {
     "data": {
      "text/plain": [
       "891     0.0\n",
       "892     0.0\n",
       "893     0.0\n",
       "894     0.0\n",
       "895     0.0\n",
       "896     0.0\n",
       "897     0.0\n",
       "898     0.0\n",
       "899     1.0\n",
       "900     0.0\n",
       "901     0.0\n",
       "902     0.0\n",
       "903     1.0\n",
       "904     0.0\n",
       "905     1.0\n",
       "906     1.0\n",
       "907     0.0\n",
       "908     0.0\n",
       "909     1.0\n",
       "910     1.0\n",
       "911     1.0\n",
       "912     1.0\n",
       "913     1.0\n",
       "914     1.0\n",
       "915     1.0\n",
       "916     0.0\n",
       "917     1.0\n",
       "918     1.0\n",
       "919     1.0\n",
       "920     0.0\n",
       "       ... \n",
       "1279    0.0\n",
       "1280    0.0\n",
       "1281    0.0\n",
       "1282    1.0\n",
       "1283    1.0\n",
       "1284    0.0\n",
       "1285    0.0\n",
       "1286    1.0\n",
       "1287    0.0\n",
       "1288    1.0\n",
       "1289    0.0\n",
       "1290    0.0\n",
       "1291    1.0\n",
       "1292    0.0\n",
       "1293    1.0\n",
       "1294    0.0\n",
       "1295    1.0\n",
       "1296    0.0\n",
       "1297    0.0\n",
       "1298    0.0\n",
       "1299    1.0\n",
       "1300    1.0\n",
       "1301    1.0\n",
       "1302    1.0\n",
       "1303    0.0\n",
       "1304    0.0\n",
       "1305    1.0\n",
       "1306    0.0\n",
       "1307    0.0\n",
       "1308    1.0\n",
       "Name: Survived, Length: 418, dtype: float64"
      ]
     },
     "execution_count": 31,
     "metadata": {},
     "output_type": "execute_result"
    }
   ],
   "source": [
    "sub[\"Survived\"]"
   ]
  },
  {
   "cell_type": "code",
   "execution_count": 30,
   "metadata": {},
   "outputs": [
    {
     "data": {
      "text/plain": [
       "array([0., 0., 0., 0., 0., 0., 0., 0., 1., 0., 0., 0., 1., 0., 1., 1., 0.,\n",
       "       0., 1., 1., 1., 1., 1., 1., 1., 0., 1., 1., 1., 0., 0., 0., 1., 0.,\n",
       "       1., 0., 0., 0., 0., 0., 0., 1., 0., 1., 1., 0., 0., 0., 1., 1., 0.,\n",
       "       0., 1., 1., 0., 0., 0., 0., 0., 1., 0., 0., 0., 1., 1., 1., 1., 0.,\n",
       "       0., 1., 1., 0., 0., 0., 1., 0., 0., 1., 0., 1., 1., 0., 0., 0., 0.,\n",
       "       0., 1., 0., 1., 1., 1., 1., 0., 0., 0., 0., 1., 0., 1., 0., 1., 0.,\n",
       "       0., 0., 0., 0., 0., 0., 0., 0., 0., 1., 1., 0., 1., 0., 0., 1., 0.,\n",
       "       1., 1., 0., 1., 0., 0., 0., 0., 1., 0., 0., 1., 0., 0., 0., 0., 0.,\n",
       "       0., 0., 0., 0., 0., 1., 0., 0., 1., 0., 0., 0., 1., 0., 1., 0., 0.,\n",
       "       1., 0., 0., 1., 1., 1., 1., 1., 1., 0., 0., 0., 0., 0., 0., 1., 0.,\n",
       "       0., 0., 0., 0., 0., 1., 1., 1., 1., 1., 0., 1., 1., 0., 1., 0., 1.,\n",
       "       0., 0., 0., 0., 0., 1., 0., 1., 0., 1., 0., 0., 0., 1., 1., 0., 1.,\n",
       "       0., 0., 1., 0., 1., 0., 0., 0., 0., 1., 0., 0., 1., 0., 1., 0., 1.,\n",
       "       0., 1., 0., 1., 0., 0., 1., 0., 0., 0., 1., 0., 0., 1., 0., 0., 0.,\n",
       "       1., 1., 1., 1., 0., 0., 0., 0., 1., 0., 1., 0., 1., 0., 0., 0., 1.,\n",
       "       0., 0., 0., 1., 0., 0., 0., 1., 1., 0., 0., 0., 0., 0., 0., 0., 0.,\n",
       "       1., 1., 0., 1., 0., 0., 0., 0., 0., 1., 1., 1., 1., 0., 0., 0., 0.,\n",
       "       0., 1., 0., 0., 0., 0., 0., 1., 0., 0., 0., 0., 0., 0., 0., 1., 1.,\n",
       "       1., 1., 0., 0., 1., 1., 0., 1., 1., 1., 0., 1., 0., 0., 0., 0., 0.,\n",
       "       1., 1., 0., 1., 0., 0., 0., 1., 1., 0., 0., 0., 0., 0., 0., 0., 1.,\n",
       "       0., 0., 0., 1., 0., 0., 0., 1., 0., 1., 1., 0., 0., 0., 1., 0., 1.,\n",
       "       0., 0., 1., 0., 1., 1., 0., 1., 1., 0., 0., 1., 0., 0., 1., 0., 0.,\n",
       "       1., 1., 0., 0., 0., 0., 0., 0., 1., 1., 1., 1., 0., 0., 0., 0., 0.,\n",
       "       1., 1., 0., 0., 1., 0., 1., 0., 0., 1., 0., 1., 0., 1., 0., 0., 0.,\n",
       "       1., 1., 1., 1., 0., 0., 1., 0., 0., 1.])"
      ]
     },
     "execution_count": 30,
     "metadata": {},
     "output_type": "execute_result"
    }
   ],
   "source": [
    "pred"
   ]
  },
  {
   "cell_type": "code",
   "execution_count": 37,
   "metadata": {},
   "outputs": [
    {
     "name": "stderr",
     "output_type": "stream",
     "text": [
      "/Library/Frameworks/Python.framework/Versions/3.6/lib/python3.6/site-packages/ipykernel_launcher.py:2: SettingWithCopyWarning: \n",
      "A value is trying to be set on a copy of a slice from a DataFrame.\n",
      "Try using .loc[row_indexer,col_indexer] = value instead\n",
      "\n",
      "See the caveats in the documentation: http://pandas.pydata.org/pandas-docs/stable/indexing.html#indexing-view-versus-copy\n",
      "  \n"
     ]
    }
   ],
   "source": [
    "sub = sub_example[sub_example.Survived.isna()]  \n",
    "sub[\"Survived\"] = pred.astype(int)"
   ]
  },
  {
   "cell_type": "code",
   "execution_count": 38,
   "metadata": {},
   "outputs": [],
   "source": [
    "sub.to_csv(\"anna_titanic_1.csv\",index=False)"
   ]
  },
  {
   "cell_type": "code",
   "execution_count": 36,
   "metadata": {},
   "outputs": [
    {
     "data": {
      "text/plain": [
       "array([0, 0, 0, 0, 0, 0, 0, 0, 1, 0, 0, 0, 1, 0, 1, 1, 0, 0, 1, 1, 1, 1,\n",
       "       1, 1, 1, 0, 1, 1, 1, 0, 0, 0, 1, 0, 1, 0, 0, 0, 0, 0, 0, 1, 0, 1,\n",
       "       1, 0, 0, 0, 1, 1, 0, 0, 1, 1, 0, 0, 0, 0, 0, 1, 0, 0, 0, 1, 1, 1,\n",
       "       1, 0, 0, 1, 1, 0, 0, 0, 1, 0, 0, 1, 0, 1, 1, 0, 0, 0, 0, 0, 1, 0,\n",
       "       1, 1, 1, 1, 0, 0, 0, 0, 1, 0, 1, 0, 1, 0, 0, 0, 0, 0, 0, 0, 0, 0,\n",
       "       0, 1, 1, 0, 1, 0, 0, 1, 0, 1, 1, 0, 1, 0, 0, 0, 0, 1, 0, 0, 1, 0,\n",
       "       0, 0, 0, 0, 0, 0, 0, 0, 0, 1, 0, 0, 1, 0, 0, 0, 1, 0, 1, 0, 0, 1,\n",
       "       0, 0, 1, 1, 1, 1, 1, 1, 0, 0, 0, 0, 0, 0, 1, 0, 0, 0, 0, 0, 0, 1,\n",
       "       1, 1, 1, 1, 0, 1, 1, 0, 1, 0, 1, 0, 0, 0, 0, 0, 1, 0, 1, 0, 1, 0,\n",
       "       0, 0, 1, 1, 0, 1, 0, 0, 1, 0, 1, 0, 0, 0, 0, 1, 0, 0, 1, 0, 1, 0,\n",
       "       1, 0, 1, 0, 1, 0, 0, 1, 0, 0, 0, 1, 0, 0, 1, 0, 0, 0, 1, 1, 1, 1,\n",
       "       0, 0, 0, 0, 1, 0, 1, 0, 1, 0, 0, 0, 1, 0, 0, 0, 1, 0, 0, 0, 1, 1,\n",
       "       0, 0, 0, 0, 0, 0, 0, 0, 1, 1, 0, 1, 0, 0, 0, 0, 0, 1, 1, 1, 1, 0,\n",
       "       0, 0, 0, 0, 1, 0, 0, 0, 0, 0, 1, 0, 0, 0, 0, 0, 0, 0, 1, 1, 1, 1,\n",
       "       0, 0, 1, 1, 0, 1, 1, 1, 0, 1, 0, 0, 0, 0, 0, 1, 1, 0, 1, 0, 0, 0,\n",
       "       1, 1, 0, 0, 0, 0, 0, 0, 0, 1, 0, 0, 0, 1, 0, 0, 0, 1, 0, 1, 1, 0,\n",
       "       0, 0, 1, 0, 1, 0, 0, 1, 0, 1, 1, 0, 1, 1, 0, 0, 1, 0, 0, 1, 0, 0,\n",
       "       1, 1, 0, 0, 0, 0, 0, 0, 1, 1, 1, 1, 0, 0, 0, 0, 0, 1, 1, 0, 0, 1,\n",
       "       0, 1, 0, 0, 1, 0, 1, 0, 1, 0, 0, 0, 1, 1, 1, 1, 0, 0, 1, 0, 0, 1])"
      ]
     },
     "execution_count": 36,
     "metadata": {},
     "output_type": "execute_result"
    }
   ],
   "source": []
  },
  {
   "cell_type": "code",
   "execution_count": null,
   "metadata": {},
   "outputs": [],
   "source": []
  }
 ],
 "metadata": {
  "kernelspec": {
   "display_name": "Python 3",
   "language": "python",
   "name": "python3"
  },
  "language_info": {
   "codemirror_mode": {
    "name": "ipython",
    "version": 3
   },
   "file_extension": ".py",
   "mimetype": "text/x-python",
   "name": "python",
   "nbconvert_exporter": "python",
   "pygments_lexer": "ipython3",
   "version": "3.6.1"
  }
 },
 "nbformat": 4,
 "nbformat_minor": 2
}
