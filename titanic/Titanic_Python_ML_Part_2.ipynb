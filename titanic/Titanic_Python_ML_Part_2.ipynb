{
 "cells": [
  {
   "cell_type": "markdown",
   "metadata": {},
   "source": [
    "# Titanic - Machine Learning Algorithms \n",
    "\n",
    "In this notebook we will compare performance of various machine learning models to our feature engineered data set from last session."
   ]
  },
  {
   "cell_type": "code",
   "execution_count": 1,
   "metadata": {},
   "outputs": [
    {
     "name": "stderr",
     "output_type": "stream",
     "text": [
      "/anaconda3/envs/data_science_club/lib/python3.6/site-packages/sklearn/ensemble/weight_boosting.py:29: DeprecationWarning: numpy.core.umath_tests is an internal NumPy module and should not be imported. It will be removed in a future NumPy release.\n",
      "  from numpy.core.umath_tests import inner1d\n"
     ]
    }
   ],
   "source": [
    "import pandas as pd\n",
    "import matplotlib.pyplot as plt\n",
    "from sklearn.ensemble import RandomForestClassifier \n",
    "import xgboost as xgb"
   ]
  },
  {
   "cell_type": "code",
   "execution_count": 2,
   "metadata": {},
   "outputs": [],
   "source": [
    "# Load Data Frames from last session\n",
    "read_path = \"feature_engineered_datasets/\"\n",
    "train_fe = pd.read_csv(read_path+\"train_fe.csv\")\n",
    "valid_fe = pd.read_csv(read_path+\"valid_fe.csv\")\n",
    "test_fe = pd.read_csv(read_path+\"test_fe.csv\")"
   ]
  },
  {
   "cell_type": "markdown",
   "metadata": {},
   "source": [
    "## Random Forests\n",
    "\n",
    "We will start by fitting the sklearn implementation of Random Forest, the documantation can be found here: http://scikit-learn.org/stable/modules/generated/sklearn.ensemble.RandomForestClassifier.html. \n",
    "\n",
    "The two important hyperparameters we will look at  are: \n",
    "\n",
    "n_estimators: # Of trees\n",
    "\n",
    "max_features: max # of feature in a given tree\n",
    "\n",
    "Remember that random forest "
   ]
  },
  {
   "cell_type": "code",
   "execution_count": 3,
   "metadata": {},
   "outputs": [
    {
     "data": {
      "text/plain": [
       "0.8213058419243986"
      ]
     },
     "execution_count": 3,
     "metadata": {},
     "output_type": "execute_result"
    }
   ],
   "source": [
    "\n",
    "p = train_fe.shape[1]-1\n",
    "rf = RandomForestClassifier(n_estimators=20,max_features=round(p**.5)) \n",
    "rf.fit(train_fe.drop(\"Survived\",axis=1),train_fe[\"Survived\"])\n",
    "rf.score(valid_fe.drop(\"Survived\",axis=1),valid_fe[\"Survived\"])\n"
   ]
  },
  {
   "cell_type": "markdown",
   "metadata": {},
   "source": [
    "## Let's implement Bagging using the Random Forest function.\n",
    "\n",
    "What do we need to change in Random to make it bagging?"
   ]
  },
  {
   "cell_type": "code",
   "execution_count": 4,
   "metadata": {},
   "outputs": [
    {
     "data": {
      "text/plain": [
       "0.8075601374570447"
      ]
     },
     "execution_count": 4,
     "metadata": {},
     "output_type": "execute_result"
    }
   ],
   "source": [
    "bg = RandomForestClassifier(n_estimators=20,max_features=p) \n",
    "bg.fit(train_fe.drop(\"Survived\",axis=1),train_fe[\"Survived\"])\n",
    "bg.score(valid_fe.drop(\"Survived\",axis=1),valid_fe[\"Survived\"])"
   ]
  },
  {
   "cell_type": "markdown",
   "metadata": {},
   "source": [
    "Which model performs better? Why?\n",
    "\n",
    "How can we make their performance similar? \n",
    "\n",
    "How can we improve the perforamnce of both models?"
   ]
  },
  {
   "cell_type": "markdown",
   "metadata": {},
   "source": [
    "# Gradient Boosting Machines\n",
    "\n",
    "There are many GBM packages available, we will use XGBoost.\n",
    "\n",
    "There are many hyperparameters in the XGBoost model. We will look at a few:\n",
    "\n",
    "learning_rate - controls complexity of the model, the smaller the more complex\n",
    "\n",
    "n_estimators - number of trees, the bigger the more complex\n",
    "\n",
    "colsample_bytree - same as max_features from RF\n",
    "\n",
    "max_depth - maximum depth of each tree, the bigger the more complex\n",
    "\n",
    "We will use the sklearn API of XGB since it is simpler. \n",
    "\n",
    "For more options use the original XGB API which can be found here: https://xgboost.readthedocs.io/en/latest/python/python_api.html"
   ]
  },
  {
   "cell_type": "code",
   "execution_count": 5,
   "metadata": {},
   "outputs": [
    {
     "name": "stderr",
     "output_type": "stream",
     "text": [
      "/anaconda3/envs/data_science_club/lib/python3.6/site-packages/sklearn/preprocessing/label.py:151: DeprecationWarning: The truth value of an empty array is ambiguous. Returning False, but in future this will result in an error. Use `array.size > 0` to check that an array is not empty.\n",
      "  if diff:\n"
     ]
    },
    {
     "data": {
      "text/plain": [
       "0.8350515463917526"
      ]
     },
     "execution_count": 5,
     "metadata": {},
     "output_type": "execute_result"
    }
   ],
   "source": [
    "bst = xgb.XGBClassifier(max_depth=3, learning_rate=0.1, n_estimators = 30,colsample_bytree=.8,importance=\"gain\")\n",
    "bst.fit(train_fe.drop(\"Survived\",axis=1),train_fe[\"Survived\"])\n",
    "bst.score(valid_fe.drop(\"Survived\",axis=1),valid_fe[\"Survived\"])"
   ]
  },
  {
   "cell_type": "markdown",
   "metadata": {},
   "source": [
    "# Undersanding you model"
   ]
  },
  {
   "cell_type": "code",
   "execution_count": 6,
   "metadata": {},
   "outputs": [],
   "source": [
    "\n",
    "col_names = train_fe.drop(\"Survived\",axis=1).columns\n",
    "rf_importance = pd.Series(rf.feature_importances_,index=col_names).sort_values(ascending=False)\n",
    "xgb_importance = pd.Series(bst.feature_importances_,index=col_names).sort_values(ascending=False)\n",
    "\n"
   ]
  },
  {
   "cell_type": "code",
   "execution_count": 7,
   "metadata": {},
   "outputs": [],
   "source": [
    "%matplotlib inline\n",
    "import os\n",
    "os.environ[\"KMP_DUPLICATE_LIB_OK\"]=\"TRUE\""
   ]
  },
  {
   "cell_type": "code",
   "execution_count": 10,
   "metadata": {},
   "outputs": [
    {
     "data": {
      "text/plain": [
       "<matplotlib.axes._subplots.AxesSubplot at 0x1a19031e10>"
      ]
     },
     "execution_count": 10,
     "metadata": {},
     "output_type": "execute_result"
    },
    {
     "data": {
      "image/png": "[encoded data removed]",
      "text/plain": [
       "<Figure size 432x288 with 1 Axes>"
      ]
     },
     "metadata": {
      "needs_background": "light"
     },
     "output_type": "display_data"
    }
   ],
   "source": [
    "rf_importance.plot(kind=\"bar\")"
   ]
  },
  {
   "cell_type": "code",
   "execution_count": 11,
   "metadata": {},
   "outputs": [
    {
     "data": {
      "text/plain": [
       "<matplotlib.axes._subplots.AxesSubplot at 0x1a190316d8>"
      ]
     },
     "execution_count": 11,
     "metadata": {},
     "output_type": "execute_result"
    },
    {
     "data": {
      "image/png": "[encoded data removed]",
      "text/plain": [
       "<Figure size 432x288 with 1 Axes>"
      ]
     },
     "metadata": {
      "needs_background": "light"
     },
     "output_type": "display_data"
    }
   ],
   "source": [
    "xgb_importance.plot(kind=\"bar\")"
   ]
  },
  {
   "cell_type": "markdown",
   "metadata": {},
   "source": [
    "Do these features intutitvly make sense?\n",
    "\n",
    "Do we have leaky variables? or are we overfitting anywhere?\n"
   ]
  },
  {
   "cell_type": "markdown",
   "metadata": {},
   "source": [
    "### Improve your model\n",
    "\n",
    "Create more features\n",
    "\n",
    "Using cross-validation optimization techiques to find better hyperparameters http://scikit-learn.org/stable/modules/generated/sklearn.model_selection.GridSearchCV.html\n",
    "\n",
    "Blend various models?"
   ]
  },
  {
   "cell_type": "code",
   "execution_count": 46,
   "metadata": {
    "scrolled": true
   },
   "outputs": [
    {
     "name": "stderr",
     "output_type": "stream",
     "text": [
      "/anaconda3/envs/data_science_club/lib/python3.6/site-packages/sklearn/preprocessing/label.py:151: DeprecationWarning: The truth value of an empty array is ambiguous. Returning False, but in future this will result in an error. Use `array.size > 0` to check that an array is not empty.\n",
      "  if diff:\n"
     ]
    }
   ],
   "source": [
    "test_pred =  pd.Series(bst.predict(test_fe.drop(\"Survived\",axis=1)).astype(\"int\"))\n",
    "\n",
    "test_id = pd.read_csv(\"titanic_test.csv\",usecols=[\"PassengerId\"])\n",
    "model = bst # your final model goes here\n",
    "submission = pd.concat([test_id,test_pred],axis=1)\n",
    "submission.columns = [\"PassengerId\",\"Survived\"]\n",
    "submission.to_csv(\"kaggle_submission_1.csv\",index=False) # This got 0.78468 on Leaderboard\n"
   ]
  },
  {
   "cell_type": "markdown",
   "metadata": {},
   "source": [
    "## Try and beat my best score: 0.79425"
   ]
  },
  {
   "cell_type": "code",
   "execution_count": null,
   "metadata": {},
   "outputs": [],
   "source": []
  }
 ],
 "metadata": {
  "kernelspec": {
   "display_name": "Python [conda env:data_science_club]",
   "language": "python",
   "name": "conda-env-data_science_club-py"
  },
  "language_info": {
   "codemirror_mode": {
    "name": "ipython",
    "version": 3
   },
   "file_extension": ".py",
   "mimetype": "text/x-python",
   "name": "python",
   "nbconvert_exporter": "python",
   "pygments_lexer": "ipython3",
   "version": "3.6.6"
  }
 },
 "nbformat": 4,
 "nbformat_minor": 2
}
