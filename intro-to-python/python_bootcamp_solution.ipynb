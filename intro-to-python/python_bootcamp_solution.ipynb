{
 "cells": [
  {
   "cell_type": "markdown",
   "metadata": {},
   "source": [
    "# Python Bootcamp"
   ]
  },
  {
   "cell_type": "markdown",
   "metadata": {},
   "source": [
    "The goal of this bootcamp is to familiarize DSC members with Python. \n",
    "\n",
    "This material is necessary but not sufficient for participating in the club. That is, the material covered here is only part of what we will be using in the coming weeks. However, this material will give you a kickstart on Python. \n",
    "\n",
    "Keep in mind, many of us will be learning on the go, so do not be hard on yourself. \n",
    "\n",
    "p.s. Google is your bff for learning to code"
   ]
  },
  {
   "cell_type": "markdown",
   "metadata": {},
   "source": [
    "# Hello World!\n",
    "\n",
    "If you have programmed in another language before, the material below will be a quick review.\n",
    "\n",
    "For those that haven't, the material below is general to any programming langauge you will use. "
   ]
  },
  {
   "cell_type": "markdown",
   "metadata": {},
   "source": [
    "The first function we will learn in Python is the $print$ function\n",
    "\n",
    "As the name suggests, this function prints whatever input is inside. \n",
    "\n",
    "Use the print function to print:\n",
    "\n",
    "\n",
    "1)\"Hello World!\"\n",
    "\n",
    "2) 5+3"
   ]
  },
  {
   "cell_type": "code",
   "execution_count": 1,
   "metadata": {},
   "outputs": [
    {
     "name": "stdout",
     "output_type": "stream",
     "text": [
      "Hello World!\n",
      "8\n"
     ]
    }
   ],
   "source": [
    "print(\"Hello World!\")\n",
    "print(5+3)"
   ]
  },
  {
   "cell_type": "markdown",
   "metadata": {},
   "source": [
    "# Variables and Data Types"
   ]
  },
  {
   "cell_type": "markdown",
   "metadata": {},
   "source": [
    "In this section we will explore one of the four basic data types in Python:"
   ]
  },
  {
   "cell_type": "markdown",
   "metadata": {},
   "source": [
    "## Strings"
   ]
  },
  {
   "cell_type": "markdown",
   "metadata": {},
   "source": [
    "Strings are how we express text in programming langauges. \n",
    "\n",
    "To define a string in Python we simply put quotes around text.\n",
    "\n",
    "Python interprets both \"  \" and '  '.\n",
    "\n",
    "Let's explore strings and their properties:"
   ]
  },
  {
   "cell_type": "code",
   "execution_count": 2,
   "metadata": {},
   "outputs": [],
   "source": [
    "# Here we define two variables\n",
    "a = \"Hello\"\n",
    "b = 'World'\n"
   ]
  },
  {
   "cell_type": "code",
   "execution_count": 3,
   "metadata": {},
   "outputs": [
    {
     "name": "stdout",
     "output_type": "stream",
     "text": [
      "<class 'str'>\n"
     ]
    }
   ],
   "source": [
    "print(type(a)) # This will return the type of the varible, in this case 'str'"
   ]
  },
  {
   "cell_type": "code",
   "execution_count": 4,
   "metadata": {},
   "outputs": [
    {
     "name": "stdout",
     "output_type": "stream",
     "text": [
      "HelloWorld\n"
     ]
    }
   ],
   "source": [
    "# What do you think will happen if we print:\n",
    "print(a+b)"
   ]
  },
  {
   "cell_type": "markdown",
   "metadata": {},
   "source": [
    "#### Print \"Hello World!\" (With a space and with \"!\") using the variables a and b"
   ]
  },
  {
   "cell_type": "code",
   "execution_count": 5,
   "metadata": {},
   "outputs": [
    {
     "name": "stdout",
     "output_type": "stream",
     "text": [
      "Hello World!\n"
     ]
    }
   ],
   "source": [
    "\n",
    "print(a+\" \"+b + \"!\")"
   ]
  },
  {
   "cell_type": "markdown",
   "metadata": {},
   "source": [
    "#### Substrings and getting elements of a string"
   ]
  },
  {
   "cell_type": "code",
   "execution_count": 8,
   "metadata": {},
   "outputs": [],
   "source": [
    "name = \"Title.,LastName FirstName\""
   ]
  },
  {
   "cell_type": "code",
   "execution_count": 9,
   "metadata": {},
   "outputs": [],
   "source": [
    "# Get the 7th character of the name variable. \n",
    "# You can access the ith element of name by: name[i]. Remember, indexing starts with 0\n"
   ]
  },
  {
   "cell_type": "code",
   "execution_count": 10,
   "metadata": {},
   "outputs": [
    {
     "name": "stdout",
     "output_type": "stream",
     "text": [
      "Title.\n",
      "LastName FirstName\n"
     ]
    }
   ],
   "source": [
    "# Split name by \",\"\n",
    "title,full_name = name.split(\",\")\n",
    "print(title)\n",
    "print(full_name)"
   ]
  },
  {
   "cell_type": "markdown",
   "metadata": {},
   "source": [
    "Split full_name by \" \". The output is a list of length 2. \n",
    "In a similar fashion to how we defined title and full_name above, define last_name & first_name as the two variables you get by splitting on by \" \". "
   ]
  },
  {
   "cell_type": "code",
   "execution_count": 11,
   "metadata": {},
   "outputs": [],
   "source": [
    "last_name,first_name = full_name.split(\" \")"
   ]
  },
  {
   "cell_type": "markdown",
   "metadata": {},
   "source": [
    "## Booleans"
   ]
  },
  {
   "cell_type": "markdown",
   "metadata": {},
   "source": [
    "Booleans - binary logical values which are true or false. \n",
    "\n",
    "\"|\" represents the logical \"or\" operator\n",
    "\"&\" represents the logical \"and\" operator\n",
    "\n",
    "Here are some properties of booleans:"
   ]
  },
  {
   "cell_type": "code",
   "execution_count": 12,
   "metadata": {},
   "outputs": [
    {
     "name": "stdout",
     "output_type": "stream",
     "text": [
      "True\n",
      "False\n",
      "False\n",
      "True\n",
      "3\n"
     ]
    }
   ],
   "source": [
    "flag_1 = True\n",
    "flag_2 = False\n",
    "\n",
    "print(flag_1 | flag_2) \n",
    "print(flag_2 | flag_2)\n",
    "print(flag_1 & flag_2)\n",
    "print(flag_1 & flag_1)\n",
    "print(True+True+False+True+False)"
   ]
  },
  {
   "cell_type": "markdown",
   "metadata": {},
   "source": [
    "## Ints"
   ]
  },
  {
   "cell_type": "markdown",
   "metadata": {},
   "source": [
    "The modolu operator (%) gives the remainder when dividing integers.\n",
    "It is very useful in computer programming. \n",
    "\n",
    "An example:"
   ]
  },
  {
   "cell_type": "code",
   "execution_count": 13,
   "metadata": {},
   "outputs": [
    {
     "data": {
      "text/plain": [
       "1"
      ]
     },
     "execution_count": 13,
     "metadata": {},
     "output_type": "execute_result"
    }
   ],
   "source": [
    "5 % 2 "
   ]
  },
  {
   "cell_type": "markdown",
   "metadata": {},
   "source": [
    "What do you predict will happen below?"
   ]
  },
  {
   "cell_type": "code",
   "execution_count": 14,
   "metadata": {},
   "outputs": [
    {
     "name": "stdout",
     "output_type": "stream",
     "text": [
      "2\n",
      "7\n",
      "1\n"
     ]
    }
   ],
   "source": [
    "print(17 % 5)\n",
    "print(1017 % 10)\n",
    "print(10 % 3)"
   ]
  },
  {
   "cell_type": "markdown",
   "metadata": {},
   "source": [
    "## Floats \n",
    "\n",
    "Floats - Floating point number, the computer's way of representing real numbers. \n",
    "\n",
    "Here are some examples of float operations:"
   ]
  },
  {
   "cell_type": "code",
   "execution_count": 15,
   "metadata": {},
   "outputs": [
    {
     "name": "stdout",
     "output_type": "stream",
     "text": [
      "29.343888999999997\n",
      "27.085\n",
      "2.3274449510138795\n",
      "10.417\n",
      "1.0834\n",
      "1.0834\n",
      "0.30000000000000004\n"
     ]
    }
   ],
   "source": [
    "flt = 5.417\n",
    "\n",
    "print(flt**2)\n",
    "print(flt*5)\n",
    "print(flt**0.5)\n",
    "print(flt+5.0)\n",
    "print(flt/5)\n",
    "print(flt/5.0)\n",
    "print(1/10 *3) # FPS"
   ]
  },
  {
   "cell_type": "markdown",
   "metadata": {},
   "source": [
    "For more details and more datatypes: https://docs.python.org/3/library/stdtypes.html#\n"
   ]
  },
  {
   "cell_type": "markdown",
   "metadata": {},
   "source": [
    "## If Else Statments \n",
    "\n",
    "10001001010 - this is what computers understand. \n",
    "At its core, programming is a bunch of logical true false statements. \n",
    "\"If\" statements do just that.\n",
    "\n",
    "Change the variable num above to get an idea of how \"If\" statements work:"
   ]
  },
  {
   "cell_type": "code",
   "execution_count": 16,
   "metadata": {},
   "outputs": [
    {
     "name": "stdout",
     "output_type": "stream",
     "text": [
      "num's value is 17!\n",
      "My 4th reminder is 1\n"
     ]
    }
   ],
   "source": [
    "num = 17\n",
    "if num == 17:\n",
    "    print(\"num's value is \" + str(num) + \"!\")\n",
    "else:\n",
    "    print(\"num's value is not 17, it is \" + str(num) + \"!\")\n",
    "    \n",
    "if num%4 ==0: \n",
    "    print(\"My 4th reminder is 0\")\n",
    "elif num%4 ==1:\n",
    "    print(\"My 4th reminder is 1\")\n",
    "elif num%4 ==2:\n",
    "    print(\"My 4th reminder is 2\")\n",
    "else:\n",
    "    print(\"My 4th reminder is 3\")\n",
    "    \n",
    "    "
   ]
  },
  {
   "cell_type": "markdown",
   "metadata": {},
   "source": [
    "Write an \"If\" statement that prints if a variable is odd or even (hint: use the % operator)"
   ]
  },
  {
   "cell_type": "code",
   "execution_count": 18,
   "metadata": {},
   "outputs": [
    {
     "name": "stdout",
     "output_type": "stream",
     "text": [
      "7 is odd\n"
     ]
    }
   ],
   "source": [
    "num = 7 # Make sure it is an integer\n",
    "\n",
    "# Your code goes here:\n",
    "if num % 2 == 0:\n",
    "    print(str(num) +\" is even\")\n",
    "else:\n",
    "    print(str(num) + \" is odd\")"
   ]
  },
  {
   "cell_type": "markdown",
   "metadata": {},
   "source": [
    "For more info on \"If\" statements and other forms of control flow: https://docs.python.org/3/tutorial/controlflow.html"
   ]
  },
  {
   "cell_type": "markdown",
   "metadata": {},
   "source": [
    "## Python Lists:\n",
    "\n",
    "Python indicies start at 0.\n",
    "\n",
    "This is how we access variables of a list:"
   ]
  },
  {
   "cell_type": "code",
   "execution_count": 19,
   "metadata": {},
   "outputs": [
    {
     "name": "stdout",
     "output_type": "stream",
     "text": [
      "a\n",
      "d\n"
     ]
    }
   ],
   "source": [
    "ls = [\"a\",\"b\",\"c\",\"d\",\"e\",0,1,2,3,4,5,6,7,8,9] # Define a list. Lists can contain any type of object.\n",
    "print(ls[0]) # First element of ls\n",
    "print(ls[3]) # Fourth element of ls"
   ]
  },
  {
   "cell_type": "markdown",
   "metadata": {},
   "source": [
    "### Print the 5th element of the Python list called \"ls\" "
   ]
  },
  {
   "cell_type": "code",
   "execution_count": 20,
   "metadata": {},
   "outputs": [
    {
     "name": "stdout",
     "output_type": "stream",
     "text": [
      "e\n"
     ]
    }
   ],
   "source": [
    "print(ls[4])"
   ]
  },
  {
   "cell_type": "markdown",
   "metadata": {},
   "source": [
    "### If you got \"e\", good job!"
   ]
  },
  {
   "cell_type": "markdown",
   "metadata": {},
   "source": [
    "## Loops\n",
    "Loops are useful way to make changes to an array/list. \n",
    "\n",
    "As those who are familiar with matricies know, operations on multidimensional objects are hard to comprehend. \n",
    "\n",
    "Using loops makes such tasks easier. Instead of treating the list as one object, we can treat each of its elements as an object\n",
    "\n",
    "Here are some basic loop examples:"
   ]
  },
  {
   "cell_type": "code",
   "execution_count": 21,
   "metadata": {},
   "outputs": [
    {
     "name": "stdout",
     "output_type": "stream",
     "text": [
      "0\n",
      "1\n",
      "2\n",
      "3\n",
      "4\n",
      "5\n",
      "6\n",
      "7\n",
      "8\n",
      "9\n"
     ]
    }
   ],
   "source": [
    "int_list = [0,1,2,3,4,5,6,7,8,9]\n",
    "for each in int_list:\n",
    "    print(each)"
   ]
  },
  {
   "cell_type": "code",
   "execution_count": 22,
   "metadata": {},
   "outputs": [
    {
     "name": "stdout",
     "output_type": "stream",
     "text": [
      "0\n",
      "1\n",
      "0\n",
      "1\n",
      "0\n",
      "1\n",
      "0\n",
      "1\n",
      "0\n",
      "1\n"
     ]
    }
   ],
   "source": [
    "for each in int_list:\n",
    "    print(each%2)"
   ]
  },
  {
   "cell_type": "code",
   "execution_count": 23,
   "metadata": {},
   "outputs": [
    {
     "name": "stdout",
     "output_type": "stream",
     "text": [
      "[0, 1, 4, 9, 16, 25, 36, 49, 64, 81]\n"
     ]
    }
   ],
   "source": [
    "squares = [] \n",
    "for each in int_list:\n",
    "    squares.append(each**2) # The append function is how we add elements to an existing array\n",
    "print(squares)"
   ]
  },
  {
   "cell_type": "code",
   "execution_count": 24,
   "metadata": {},
   "outputs": [
    {
     "name": "stdout",
     "output_type": "stream",
     "text": [
      "0\n",
      "1\n",
      "2\n",
      "3\n",
      "4\n",
      "5\n",
      "6\n",
      "7\n",
      "8\n",
      "9\n"
     ]
    }
   ],
   "source": [
    "for i in range(0,len(int_list)):\n",
    "    print(int_list[i])"
   ]
  },
  {
   "cell_type": "markdown",
   "metadata": {},
   "source": [
    "### Print every other element in \"ls\" starting with \"b\" using a \"for\" loop"
   ]
  },
  {
   "cell_type": "code",
   "execution_count": 27,
   "metadata": {},
   "outputs": [
    {
     "name": "stdout",
     "output_type": "stream",
     "text": [
      "b\n",
      "d\n",
      "0\n",
      "2\n",
      "4\n",
      "6\n",
      "8\n"
     ]
    }
   ],
   "source": [
    "ls = [\"a\",\"b\",\"c\",\"d\",\"e\",0,1,2,3,4,5,6,7,8,9]\n",
    "\n",
    "### Your code goes here: Remember, indexes start at 0 in python\n",
    "for i in range(0,len(ls)):\n",
    "    if i %2 == 1:\n",
    "        print(ls[i])\n",
    "\n",
    "\n",
    "    \n"
   ]
  },
  {
   "cell_type": "code",
   "execution_count": 28,
   "metadata": {},
   "outputs": [
    {
     "data": {
      "text/plain": [
       "['b', 'd', 0, 2, 4, 6, 8]"
      ]
     },
     "execution_count": 28,
     "metadata": {},
     "output_type": "execute_result"
    }
   ],
   "source": [
    "### Print every other element by slicing ls - [::]\n",
    "\n",
    "ls[1::2]"
   ]
  },
  {
   "cell_type": "markdown",
   "metadata": {},
   "source": [
    "### Create a new list called ls_rev which reverses the order of the elements in \"ls\". \n",
    "(Hint: it should look like [9,8,7,...,\"c\",\"b\",\"a\"])\n",
    "\n",
    "\n",
    "(Hint: Python saves object by memory not by value )"
   ]
  },
  {
   "cell_type": "code",
   "execution_count": 30,
   "metadata": {},
   "outputs": [
    {
     "data": {
      "text/plain": [
       "[9, 8, 7, 6, 5, 4, 3, 2, 1, 0, 'e', 'd', 'c', 'b', 'a']"
      ]
     },
     "execution_count": 30,
     "metadata": {},
     "output_type": "execute_result"
    }
   ],
   "source": [
    "ls_rev = []\n",
    "\n",
    "## Your code goes here: \n",
    "\n",
    "# Using for loop\n",
    "for i in range(len(ls)-1,-1,-1):\n",
    "    ls_rev.append(ls[i])\n",
    "ls_rev"
   ]
  },
  {
   "cell_type": "code",
   "execution_count": 32,
   "metadata": {},
   "outputs": [
    {
     "data": {
      "text/plain": [
       "[9, 8, 7, 6, 5, 4, 3, 2, 1, 0, 'e', 'd', 'c', 'b', 'a']"
      ]
     },
     "execution_count": 32,
     "metadata": {},
     "output_type": "execute_result"
    }
   ],
   "source": [
    "# Using reverse:\n",
    "ls_rev = list(reversed(ls))\n",
    "ls_rev"
   ]
  },
  {
   "cell_type": "code",
   "execution_count": 34,
   "metadata": {},
   "outputs": [
    {
     "data": {
      "text/plain": [
       "[9, 8, 7, 6, 5, 4, 3, 2, 1, 0, 'e', 'd', 'c', 'b', 'a']"
      ]
     },
     "execution_count": 34,
     "metadata": {},
     "output_type": "execute_result"
    }
   ],
   "source": [
    "# Using backwards slicing\n",
    "ls_rev = ls[::-1]\n",
    "ls_rev"
   ]
  },
  {
   "cell_type": "markdown",
   "metadata": {},
   "source": [
    "### Append a new list called ls_new to ls"
   ]
  },
  {
   "cell_type": "code",
   "execution_count": 36,
   "metadata": {},
   "outputs": [],
   "source": [
    "ls_new = [\"dog\",\"cat\",\"cow\"]"
   ]
  },
  {
   "cell_type": "code",
   "execution_count": 37,
   "metadata": {},
   "outputs": [],
   "source": [
    "ls.append(ls_new)"
   ]
  },
  {
   "cell_type": "markdown",
   "metadata": {},
   "source": [
    "## Python Dictionaries"
   ]
  },
  {
   "cell_type": "markdown",
   "metadata": {},
   "source": [
    "### Below is a Python dictionary called params. \n",
    "### For machine learning algorithms, we often input hyperparameters in the form of a dictionary.\n"
   ]
  },
  {
   "cell_type": "code",
   "execution_count": 38,
   "metadata": {},
   "outputs": [],
   "source": [
    "\n",
    "params = {\n",
    " 'gamma': 0,\n",
    " 'learning_rate': 0.1,\n",
    " 'max_delta_step': 1,\n",
    " 'max_depth': 10,\n",
    " 'n_estimators': 100,\n",
    " 'objective': 'binary:logistic',\n",
    " 'reg_alpha': 0.4,\n",
    " 'reg_lambda': 0.8,\n",
    " 'scale_pos_weight': 1,\n",
    " 'seed': 0,\n",
    " 'silent': 1,\n",
    " 'subsample': 1}"
   ]
  },
  {
   "cell_type": "markdown",
   "metadata": {},
   "source": [
    "To get the max_depth of params we do:"
   ]
  },
  {
   "cell_type": "code",
   "execution_count": 39,
   "metadata": {},
   "outputs": [
    {
     "data": {
      "text/plain": [
       "10"
      ]
     },
     "execution_count": 39,
     "metadata": {},
     "output_type": "execute_result"
    }
   ],
   "source": [
    "params[\"max_depth\"]"
   ]
  },
  {
   "cell_type": "markdown",
   "metadata": {},
   "source": [
    "### Get the value of learning_rate from params"
   ]
  },
  {
   "cell_type": "code",
   "execution_count": 40,
   "metadata": {},
   "outputs": [
    {
     "data": {
      "text/plain": [
       "0.1"
      ]
     },
     "execution_count": 40,
     "metadata": {},
     "output_type": "execute_result"
    }
   ],
   "source": [
    "params[\"learning_rate\"]"
   ]
  },
  {
   "cell_type": "markdown",
   "metadata": {},
   "source": [
    "### Add a new value to params called \"min_child_weight\", set its value to 5 "
   ]
  },
  {
   "cell_type": "code",
   "execution_count": 41,
   "metadata": {},
   "outputs": [],
   "source": [
    "params[\"min_child_weight\"] = 5"
   ]
  },
  {
   "cell_type": "markdown",
   "metadata": {},
   "source": [
    "## Pandas DataFrame \n",
    "### If not already installed, install pandas\n",
    "\n",
    "Python is an object oriented programming langauge (OOP).\n",
    "\n",
    "Strings, lists, and dictionaries are all examples of objects in Python.\n",
    "\n",
    "Objects have attributes or things that you can get from the object. In the case of a list, we can get the length of a str.\n",
    "\n",
    "Objects have functions, which can transform the object or use the object to make a different transformation. \n",
    "\n",
    "Now, we will import a package called pandas. This package has an object called a DataFrame which is very useful for data science purposes. \n",
    "\n",
    "To access attributes we use the: $\\text{name_of_obj.attribute} $\n",
    "\n",
    "To access functions we use: $\\text{name_of_obj.function(params,of,function)}$\n",
    "\n"
   ]
  },
  {
   "cell_type": "code",
   "execution_count": 2,
   "metadata": {},
   "outputs": [],
   "source": [
    "import pandas as pd # This imports the pandas module into python"
   ]
  },
  {
   "cell_type": "markdown",
   "metadata": {},
   "source": [
    "### In this directory, there is a file called \"titanic_train.csv\". \n",
    "### Create a DataFrame called \"train\" from this csv using the read_csv function in the pandas module"
   ]
  },
  {
   "cell_type": "code",
   "execution_count": 3,
   "metadata": {},
   "outputs": [],
   "source": [
    "train = pd.read_csv(\"titanic_train.csv\") # This creates the data frame using the read_csv function of the pandas module"
   ]
  },
  {
   "cell_type": "markdown",
   "metadata": {},
   "source": [
    "### Get the dimension of train using the \"shape\" attribute"
   ]
  },
  {
   "cell_type": "code",
   "execution_count": 46,
   "metadata": {},
   "outputs": [
    {
     "data": {
      "text/plain": [
       "(891, 12)"
      ]
     },
     "execution_count": 46,
     "metadata": {},
     "output_type": "execute_result"
    }
   ],
   "source": [
    "train.shape"
   ]
  },
  {
   "cell_type": "markdown",
   "metadata": {},
   "source": [
    "### Find the column names of train using the \"columns\" attribute"
   ]
  },
  {
   "cell_type": "code",
   "execution_count": 6,
   "metadata": {},
   "outputs": [
    {
     "data": {
      "text/plain": [
       "Index(['PassengerId', 'Survived', 'Pclass', 'Name', 'Sex', 'Age', 'SibSp',\n",
       "       'Parch', 'Ticket', 'Fare', 'Cabin', 'Embarked'],\n",
       "      dtype='object')"
      ]
     },
     "execution_count": 6,
     "metadata": {},
     "output_type": "execute_result"
    }
   ],
   "source": [
    "train.columns"
   ]
  },
  {
   "cell_type": "code",
   "execution_count": 5,
   "metadata": {},
   "outputs": [
    {
     "data": {
      "text/plain": [
       "['PassengerId',\n",
       " 'Survived',\n",
       " 'Pclass',\n",
       " 'Name',\n",
       " 'Sex',\n",
       " 'Age',\n",
       " 'SibSp',\n",
       " 'Parch',\n",
       " 'Ticket',\n",
       " 'Fare',\n",
       " 'Cabin',\n",
       " 'Embarked']"
      ]
     },
     "execution_count": 5,
     "metadata": {},
     "output_type": "execute_result"
    }
   ],
   "source": [
    "list(train)"
   ]
  },
  {
   "cell_type": "markdown",
   "metadata": {},
   "source": [
    "### Create a new variable called train_target (pandas series) that is equal to \"Survived\" column of train"
   ]
  },
  {
   "cell_type": "code",
   "execution_count": 35,
   "metadata": {},
   "outputs": [],
   "source": [
    "train_target = train.Survived"
   ]
  },
  {
   "cell_type": "markdown",
   "metadata": {},
   "source": [
    "### Drop the \"Survived\",'Ticket' columns from train"
   ]
  },
  {
   "cell_type": "code",
   "execution_count": null,
   "metadata": {},
   "outputs": [],
   "source": [
    "train.drop([\"Survived\",\"Ticket\"],axis=1,inplace=True) # Axis =0 : row, axis=1 :columns"
   ]
  },
  {
   "cell_type": "markdown",
   "metadata": {},
   "source": [
    "### Find the missing values of the \"Age\" column in train"
   ]
  },
  {
   "cell_type": "code",
   "execution_count": 49,
   "metadata": {},
   "outputs": [
    {
     "data": {
      "text/plain": [
       "0      False\n",
       "1      False\n",
       "2      False\n",
       "3      False\n",
       "4      False\n",
       "5       True\n",
       "6      False\n",
       "7      False\n",
       "8      False\n",
       "9      False\n",
       "10     False\n",
       "11     False\n",
       "12     False\n",
       "13     False\n",
       "14     False\n",
       "15     False\n",
       "16     False\n",
       "17      True\n",
       "18     False\n",
       "19      True\n",
       "20     False\n",
       "21     False\n",
       "22     False\n",
       "23     False\n",
       "24     False\n",
       "25     False\n",
       "26      True\n",
       "27     False\n",
       "28      True\n",
       "29      True\n",
       "       ...  \n",
       "861    False\n",
       "862    False\n",
       "863     True\n",
       "864    False\n",
       "865    False\n",
       "866    False\n",
       "867    False\n",
       "868     True\n",
       "869    False\n",
       "870    False\n",
       "871    False\n",
       "872    False\n",
       "873    False\n",
       "874    False\n",
       "875    False\n",
       "876    False\n",
       "877    False\n",
       "878     True\n",
       "879    False\n",
       "880    False\n",
       "881    False\n",
       "882    False\n",
       "883    False\n",
       "884    False\n",
       "885    False\n",
       "886    False\n",
       "887    False\n",
       "888     True\n",
       "889    False\n",
       "890    False\n",
       "Name: Age, Length: 891, dtype: bool"
      ]
     },
     "execution_count": 49,
     "metadata": {},
     "output_type": "execute_result"
    }
   ],
   "source": [
    "train[\"Age\"].isna()"
   ]
  },
  {
   "cell_type": "code",
   "execution_count": 7,
   "metadata": {},
   "outputs": [
    {
     "name": "stdout",
     "output_type": "stream",
     "text": [
      "177\n"
     ]
    }
   ],
   "source": [
    "print(train['Age'].isnull().sum())   # Find how many missing values exist in Age"
   ]
  },
  {
   "cell_type": "markdown",
   "metadata": {},
   "source": [
    "### Impute the missing value of the \"Age\" column to the mean of the column"
   ]
  },
  {
   "cell_type": "code",
   "execution_count": 52,
   "metadata": {
    "scrolled": true
   },
   "outputs": [
    {
     "data": {
      "text/plain": [
       "0"
      ]
     },
     "execution_count": 52,
     "metadata": {},
     "output_type": "execute_result"
    }
   ],
   "source": [
    "train.Age.fillna(train.Age.mean(),inplace=True)\n",
    "train.Age.isna().sum()"
   ]
  },
  {
   "cell_type": "markdown",
   "metadata": {},
   "source": [
    "### Imputing missing values of the \"Age\" column to the mean of the column can also be done using a \"for\" loop but requires many more steps."
   ]
  },
  {
   "cell_type": "code",
   "execution_count": 25,
   "metadata": {},
   "outputs": [
    {
     "data": {
      "text/plain": [
       "29.69911764705882"
      ]
     },
     "execution_count": 25,
     "metadata": {},
     "output_type": "execute_result"
    }
   ],
   "source": [
    "# Reset the contents of train so that missing values are back\n",
    "train = pd.read_csv(\"titanic_train.csv\")\n",
    "\n",
    "# Find the mean of the \"Age\" column\n",
    "import numpy as np\n",
    "np.mean(train['Age'])"
   ]
  },
  {
   "cell_type": "code",
   "execution_count": 26,
   "metadata": {},
   "outputs": [],
   "source": [
    "# The ages in the \"Age\" column are mostly integers so we'll round the mean age\n",
    "# down to 29\n",
    "mean_age = '29'"
   ]
  },
  {
   "cell_type": "code",
   "execution_count": 27,
   "metadata": {},
   "outputs": [
    {
     "name": "stdout",
     "output_type": "stream",
     "text": [
      "<class 'float'>\n",
      "<class 'float'>\n",
      "<class 'float'>\n",
      "<class 'float'>\n",
      "<class 'float'>\n",
      "<class 'float'>\n",
      "<class 'float'>\n",
      "<class 'float'>\n",
      "<class 'float'>\n",
      "<class 'float'>\n"
     ]
    }
   ],
   "source": [
    "# Currently, each value in the \"Age\" column is a float class\n",
    "# I'll only show the first 10 elements in the \"Age\" column with .head(10)\n",
    "# but, if you remove that part of the code, you'll see that all elements in the\n",
    "# column are indeed floats\n",
    "for a in train['Age'].head(10):\n",
    "    print(type(a))\n"
   ]
  },
  {
   "cell_type": "code",
   "execution_count": 29,
   "metadata": {},
   "outputs": [
    {
     "name": "stdout",
     "output_type": "stream",
     "text": [
      "<class 'str'>\n",
      "<class 'str'>\n",
      "<class 'str'>\n",
      "<class 'str'>\n",
      "<class 'str'>\n",
      "<class 'str'>\n",
      "<class 'str'>\n",
      "<class 'str'>\n",
      "<class 'str'>\n",
      "<class 'str'>\n"
     ]
    }
   ],
   "source": [
    "# The float class doesn't have the commands available to it that I require\n",
    "# So, I'll change all the elements in the \"Age\" column into a string\n",
    "train_str = [str(i) for i in train['Age']]\n",
    "\n",
    "for a in train_str[0:10]:\n",
    "    print(type(a))"
   ]
  },
  {
   "cell_type": "code",
   "execution_count": 30,
   "metadata": {},
   "outputs": [],
   "source": [
    "# Now I can run my for loop to find and replace every \"nan\" value with the mean\n",
    "# that we calculated earlier\n",
    "for x in train_str:\n",
    "    if x == 'nan':\n",
    "        train_edited = [train_edited.replace('nan', mean_age) for train_edited in train_str]\n"
   ]
  },
  {
   "cell_type": "code",
   "execution_count": 31,
   "metadata": {},
   "outputs": [
    {
     "name": "stdout",
     "output_type": "stream",
     "text": [
      "<class 'float'>\n",
      "<class 'float'>\n",
      "<class 'float'>\n",
      "<class 'float'>\n",
      "<class 'float'>\n",
      "<class 'float'>\n",
      "<class 'float'>\n",
      "<class 'float'>\n",
      "<class 'float'>\n",
      "<class 'float'>\n"
     ]
    }
   ],
   "source": [
    "# Since the original \"Age\" column consisted of only floats, change the elements\n",
    "# of train_edited from strings back to floats\n",
    "train_float = [float(i) for i in train_edited]\n",
    "\n",
    "for a in train_float[0:10]:\n",
    "    print(type(a))"
   ]
  },
  {
   "cell_type": "code",
   "execution_count": 32,
   "metadata": {},
   "outputs": [],
   "source": [
    "# Now we need to replace the \"Age\" column in train with our newly created column\n",
    "# that doesn't have any missing values\n",
    "train['Age'] = train_float"
   ]
  },
  {
   "cell_type": "code",
   "execution_count": 33,
   "metadata": {},
   "outputs": [
    {
     "data": {
      "text/plain": [
       "0"
      ]
     },
     "execution_count": 33,
     "metadata": {},
     "output_type": "execute_result"
    }
   ],
   "source": [
    "# And that's it for imputing with a \"for\" loop!\n",
    "# Which method would you prefer to use for this task?\n",
    "train.Age.isna().sum()"
   ]
  },
  {
   "cell_type": "markdown",
   "metadata": {},
   "source": [
    "### Find the minimum value in 'Age' column"
   ]
  },
  {
   "cell_type": "code",
   "execution_count": 54,
   "metadata": {},
   "outputs": [
    {
     "data": {
      "text/plain": [
       "0.42"
      ]
     },
     "execution_count": 54,
     "metadata": {},
     "output_type": "execute_result"
    }
   ],
   "source": [
    "train[\"Age\"].min()"
   ]
  },
  {
   "cell_type": "markdown",
   "metadata": {},
   "source": [
    "### Find the row in train with the minimum 'Age' value"
   ]
  },
  {
   "cell_type": "code",
   "execution_count": 55,
   "metadata": {},
   "outputs": [
    {
     "data": {
      "text/plain": [
       "803"
      ]
     },
     "execution_count": 55,
     "metadata": {},
     "output_type": "execute_result"
    }
   ],
   "source": [
    "train[\"Age\"].idxmin()"
   ]
  },
  {
   "cell_type": "markdown",
   "metadata": {},
   "source": [
    "# Function"
   ]
  },
  {
   "cell_type": "code",
   "execution_count": 57,
   "metadata": {},
   "outputs": [
    {
     "name": "stdout",
     "output_type": "stream",
     "text": [
      "Min: 0.42\n"
     ]
    }
   ],
   "source": [
    "def myfunc(variable): # specify function name and input variable\n",
    "    print('Min: ' + str(min(variable))) \n",
    "myfunc(train[\"Age\"])"
   ]
  },
  {
   "cell_type": "markdown",
   "metadata": {},
   "source": [
    "### Write a function that takes numpy array or pandas series as input.\n",
    "### Then check the data type of the input. If the dtype equals 'float' or 'int', find the mean value of the input and print it. Otherwise, print a warning.\n",
    "\n",
    "Hint: check the input data type by variable_name.dtype"
   ]
  },
  {
   "cell_type": "code",
   "execution_count": 61,
   "metadata": {},
   "outputs": [],
   "source": [
    "import numpy as np\n",
    "def print_mean(array):\n",
    "    if np.dtype(array) == \"float\" or np.dtype(array) == \"int\":\n",
    "        print('Average: ' + str(np.mean(array))) \n",
    "    else:\n",
    "        print(\"Warning: value is non numeric\")"
   ]
  },
  {
   "cell_type": "markdown",
   "metadata": {},
   "source": [
    "### Now, write a for loop. In each step, use the function you write above and take each column in 'train' as input. "
   ]
  },
  {
   "cell_type": "code",
   "execution_count": 62,
   "metadata": {},
   "outputs": [
    {
     "name": "stdout",
     "output_type": "stream",
     "text": [
      "Average: 446.0\n",
      "Average: 0.3838383838383838\n",
      "Average: 2.308641975308642\n",
      "Warning: value is non numeric\n",
      "Warning: value is non numeric\n",
      "Average: 29.699117647058763\n",
      "Average: 0.5230078563411896\n",
      "Average: 0.38159371492704824\n",
      "Warning: value is non numeric\n",
      "Average: 32.2042079685746\n",
      "Warning: value is non numeric\n",
      "Warning: value is non numeric\n"
     ]
    }
   ],
   "source": [
    "for col in train:\n",
    "    print_mean(train[col])"
   ]
  },
  {
   "cell_type": "markdown",
   "metadata": {},
   "source": [
    "# Plot\n",
    "### If not already installed, install matplotlib\n",
    "\n",
    "Matplotlib is a Python 2D plotting library which produces publication quality figures in a variety of hardcopy formats and interactive environments across platforms. "
   ]
  },
  {
   "cell_type": "code",
   "execution_count": 36,
   "metadata": {},
   "outputs": [
    {
     "data": {
      "image/png": "[encoded data removed]",
      "text/plain": [
       "<Figure size 432x288 with 1 Axes>"
      ]
     },
     "metadata": {},
     "output_type": "display_data"
    }
   ],
   "source": [
    "# Example\n",
    "import matplotlib.pyplot as plt\n",
    "\n",
    "# template:\n",
    "# plt.'plot_type'(x_axis, y_axis, ...)\n",
    "plt.scatter(train_target, train.Fare)\n",
    "plt.xlabel('Survived')\n",
    "plt.ylabel('Fare')\n",
    "plt.show()"
   ]
  },
  {
   "cell_type": "markdown",
   "metadata": {},
   "source": [
    "### Now fix the x-axis precision, try change the data type of train_target to str.\n",
    "### To do so, use train_target.astype(str)"
   ]
  },
  {
   "cell_type": "code",
   "execution_count": 37,
   "metadata": {},
   "outputs": [
    {
     "data": {
      "image/png": "[encoded data removed]",
      "text/plain": [
       "<Figure size 432x288 with 1 Axes>"
      ]
     },
     "metadata": {},
     "output_type": "display_data"
    }
   ],
   "source": [
    "# Example\n",
    "import matplotlib.pyplot as plt\n",
    "\n",
    "# template:\n",
    "# plt.'plot_type'(x_axis, y_axis, ...)\n",
    "plt.scatter(train_target.astype(str), train.Fare)\n",
    "plt.xlabel('Survived')\n",
    "plt.ylabel('Fare')\n",
    "plt.show()"
   ]
  },
  {
   "cell_type": "code",
   "execution_count": 38,
   "metadata": {},
   "outputs": [
    {
     "data": {
      "image/png": "[encoded data removed]",
      "text/plain": [
       "<Figure size 432x288 with 1 Axes>"
      ]
     },
     "metadata": {},
     "output_type": "display_data"
    }
   ],
   "source": [
    "# Example for histogram\n",
    "plt.hist(train.Fare, density = True, bins = 20)\n",
    "plt.xlabel('Fare')\n",
    "plt.ylabel('Density')\n",
    "plt.show()"
   ]
  },
  {
   "cell_type": "markdown",
   "metadata": {},
   "source": [
    "### Now try to plot two histograms of Fare for survived and unsurvived passengers separately."
   ]
  },
  {
   "cell_type": "code",
   "execution_count": 39,
   "metadata": {},
   "outputs": [
    {
     "data": {
      "image/png": "[encoded data removed]",
      "text/plain": [
       "<Figure size 432x288 with 1 Axes>"
      ]
     },
     "metadata": {},
     "output_type": "display_data"
    }
   ],
   "source": [
    "# Example for histogram\n",
    "plt.hist(train.Fare[train_target==0], density = True, bins = 20)\n",
    "plt.xlabel('Fare')\n",
    "plt.ylabel('Density')\n",
    "plt.title(\"Fare for not Survived\")\n",
    "plt.show()"
   ]
  },
  {
   "cell_type": "code",
   "execution_count": 40,
   "metadata": {},
   "outputs": [
    {
     "data": {
      "image/png": "[encoded data removed]",
      "text/plain": [
       "<Figure size 432x288 with 1 Axes>"
      ]
     },
     "metadata": {},
     "output_type": "display_data"
    }
   ],
   "source": [
    "# Example for histogram\n",
    "plt.hist(train.Fare[train_target==1], density = True, bins = 20)\n",
    "plt.xlabel('Fare')\n",
    "plt.ylabel('Density')\n",
    "plt.title(\"Fare for Survived\")\n",
    "plt.show()"
   ]
  },
  {
   "cell_type": "markdown",
   "metadata": {},
   "source": [
    "# Good Job!"
   ]
  },
  {
   "cell_type": "code",
   "execution_count": null,
   "metadata": {},
   "outputs": [],
   "source": []
  }
 ],
 "metadata": {
  "kernelspec": {
   "display_name": "Python 3",
   "language": "python",
   "name": "python3"
  },
  "language_info": {
   "codemirror_mode": {
    "name": "ipython",
    "version": 3
   },
   "file_extension": ".py",
   "mimetype": "text/x-python",
   "name": "python",
   "nbconvert_exporter": "python",
   "pygments_lexer": "ipython3",
   "version": "3.6.5"
  }
 },
 "nbformat": 4,
 "nbformat_minor": 2
}
